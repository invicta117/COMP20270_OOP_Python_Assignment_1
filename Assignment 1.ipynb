{
 "cells": [
  {
   "cell_type": "markdown",
   "metadata": {},
   "source": [
    "# Design\n",
    "The design that was decided upon for this assignment was to use objects:\n",
    "\n",
    "- individual, representing an individual that is using the Kitty application\n",
    "- event, representing the activity that individuals participitae in\n",
    "\n",
    "These were again broken down to smaller components\n",
    "\n",
    "- Individual\n",
    "    - name\n",
    "   \n",
    "- Event\n",
    "    - participants\n",
    "    - total\n",
    "    - transaction names\n",
    "    - personal balance\n",
    "    \n",
    "- Event methods\n",
    "    - check participant\n",
    "    - transaction\n",
    "    - reconcile\n",
    "    - balance\n",
    "    - positive and negatively balanced indivduals\n",
    "    \n",
    "The individual class was decided upon as it allowed a way to handle many participants all which are based on the same class. This also allowed for attributes like name to be associated with an instance of individual something that would be of use later on. This also allowed for individuals to be passed to the event more easily rather than handling all of this together and allows for a more logical set up.\n",
    "\n",
    "Event was chosen as another class as it allowed for many attributes like total and participants to be grouped together easily. This seemed like a logical place to store transactions related to an event as well as methods to allow balancing and reconciliation. This grouping of data and methods seemed like a perfect example of an object during the design phase."
   ]
  },
  {
   "cell_type": "code",
   "execution_count": null,
   "metadata": {},
   "outputs": [],
   "source": [
    "class individual():\n",
    "    def __init__(self, name):\n",
    "        self.name = name        "
   ]
  },
  {
   "cell_type": "code",
   "execution_count": null,
   "metadata": {},
   "outputs": [],
   "source": [
    "class event():\n",
    "    def __init__(self, participants):\n",
    "        self.participants = self.checkParticipants(participants) # make sure correct class, not string etc\n",
    "        self.total = 0 # total for the event\n",
    "        self.t_name = [] # transaction names\n",
    "        self.p_bal = {p: 0 for p in self.participants} # initialize a dictionary for a participant and their balance\n",
    "        \n",
    "    def checkParticipants(self, participants): # create new list and check that participants of type individual\n",
    "        plist = []\n",
    "        for p in participants:\n",
    "            if type(p).__name__ == \"individual\" and p not in plist: # make sure the participant is of the right class\n",
    "                # and not a string or int etc and not in the list already, can't add the same person twice\n",
    "                plist.append(p)\n",
    "            else: \n",
    "                print(p, \"is not a individual\")\n",
    "        return plist # return the list of participants that pass the above checks\n",
    "        \n",
    "    def transaction(self, string, amount, indiv):\n",
    "        if type(string) != str:\n",
    "            print(\"You have entered an invalid value for transaction name\")\n",
    "            return\n",
    "        # we assume here that the member id is the class instance for an individual, used to set up the event\n",
    "        if not indiv in self.participants: \n",
    "            print(\"payee is not signed up, transaction not created\")\n",
    "            return # print out warning and stop transaction if the participant is not in the participant list\n",
    "        if (type(amount) == int or type(amount) == float) and amount > 0: # make sure amout entered valid\n",
    "            self.total += amount # add the amount to the total for the event\n",
    "            self.t_name.append(string) # add transaction name to list of transaction names\n",
    "            self.p_bal[indiv] += amount # increase the individual balance for the individual\n",
    "        else:\n",
    "            print(\"You seem to have entered an invalid value for amount!!\")\n",
    "\n",
    "    def reconcile(self):\n",
    "        each = self.total /len(self.participants) # find breakdown each\n",
    "        print(\"Total €{:.2f}, that is €{:.2f} each \\n\".format(self.total, each)) # print out that value formatted\n",
    "        balances = self.balance(each)\n",
    "        for p in balances:\n",
    "            print(\"{} has balance €{:.2f}\".format(p.name, balances[p])) # print out individual balance\n",
    "        positives, negatives = self.positives_negatives(balances) # find who positive & who negative\n",
    "        print()\n",
    "        for p in positives: # for each of the positive balance people\n",
    "            for n in negatives: # for each of the negative balance people\n",
    "                if balances[p] == 0: # when the positive person has been reconciled break to next positive person\n",
    "                    break\n",
    "                if balances[n] == 0: # if this negative person has been reconciled skip to the next negative person\n",
    "                    continue\n",
    "                value = min(abs(balances[p]),abs(balances[n])) # find who can be reconciled pos or neg person\n",
    "                print(\"{} pays {} €{:.2f}\".format(n.name,p.name,  value)) # pay the person to reconcile\n",
    "                balances[p] -= value # include this payment in the balance of the positive person\n",
    "                balances[n] += value # include this payment in the balance of the negative person\n",
    "                \n",
    "                \n",
    "    def balance(self, each): # get what each participant owes to the group\n",
    "        balances = {}\n",
    "        for p in self.p_bal:\n",
    "            balances[p] = self.p_bal[p] - each\n",
    "        return balances\n",
    "    \n",
    "    def positives_negatives(self, balances):\n",
    "        positives = {p: balances[p] for p in balances if balances[p] > 0}\n",
    "        negatives = {p: balances[p] for p in balances if balances[p] < 0}\n",
    "        return positives, negatives # return list of all the participants who have positive balances and\n",
    "        # seperate lists of those who have negative balance"
   ]
  },
  {
   "cell_type": "markdown",
   "metadata": {},
   "source": [
    "## Sample 1\n",
    "- Annie, Sally & Bill are going to a concert.\n",
    "- Annie paid for the tickets - €180.\n",
    "- Sally paid for dinner - €75.\n",
    "- Bill paid for drinks after - €19.\n",
    "- Bill paid for the taxi - €16.\n",
    "- Reconcile, who owes who what?"
   ]
  },
  {
   "cell_type": "code",
   "execution_count": null,
   "metadata": {},
   "outputs": [],
   "source": [
    "annie = individual(\"Annie\")\n",
    "sally = individual(\"Sally\")\n",
    "bill = individual(\"Bill\")"
   ]
  },
  {
   "cell_type": "code",
   "execution_count": null,
   "metadata": {},
   "outputs": [],
   "source": [
    "concert = event([annie, bill, sally])"
   ]
  },
  {
   "cell_type": "code",
   "execution_count": null,
   "metadata": {},
   "outputs": [],
   "source": [
    "concert.transaction(\"tickets\",180, annie)\n",
    "concert.transaction(\"dinner\",75, sally)\n",
    "concert.transaction(\"drinks\",19, bill)\n",
    "concert.transaction(\"taxi\",16, bill)"
   ]
  },
  {
   "cell_type": "code",
   "execution_count": null,
   "metadata": {
    "scrolled": true
   },
   "outputs": [],
   "source": [
    "concert.reconcile()"
   ]
  },
  {
   "cell_type": "markdown",
   "metadata": {},
   "source": [
    "## Sample 2\n",
    "- Cathy, Robin & Jen are going to the cinema.\n",
    "- Cathy paid for the tickets - €33.\n",
    "- Robin paid for dinner - 60.\n",
    "- Jen paid for drinks after - €21.\n",
    "- Jen paid for the taxi - €27.\n",
    "- Reconcile, who owes who what?"
   ]
  },
  {
   "cell_type": "code",
   "execution_count": null,
   "metadata": {},
   "outputs": [],
   "source": [
    "cathy = individual(\"Cathy\")\n",
    "robin = individual(\"Robin\")\n",
    "jen = individual(\"Jen\")"
   ]
  },
  {
   "cell_type": "code",
   "execution_count": null,
   "metadata": {},
   "outputs": [],
   "source": [
    "cinema = event([cathy, robin, jen])\n",
    "cinema.transaction(\"tickets\",33, cathy)\n",
    "cinema.transaction(\"dinner\",60, robin)\n",
    "cinema.transaction(\"drinks\",21, jen)\n",
    "cinema.transaction(\"taxi\",27, jen)"
   ]
  },
  {
   "cell_type": "code",
   "execution_count": null,
   "metadata": {},
   "outputs": [],
   "source": [
    "cinema.reconcile()"
   ]
  },
  {
   "cell_type": "markdown",
   "metadata": {},
   "source": [
    "## Sample 3\n",
    "- Nora, Eva, Frankie & Harry go away for theweekend.\n",
    "- Nora pays for dinner on Fri. €110.\n",
    "- Eva pays for lunch on Sat.  €60.\n",
    "- Frankie paid for dinner  €125.\n",
    "- Harry paid for lunch on Sun  €70.\n",
    "- Reconcile, who owes who what?"
   ]
  },
  {
   "cell_type": "code",
   "execution_count": null,
   "metadata": {},
   "outputs": [],
   "source": [
    "nora = individual(\"Nora\")\n",
    "eva = individual(\"Eva\")\n",
    "frankie = individual(\"Frankie\")\n",
    "harry = individual(\"Harry\")"
   ]
  },
  {
   "cell_type": "code",
   "execution_count": null,
   "metadata": {},
   "outputs": [],
   "source": [
    "weekend = event([nora, eva, frankie, harry])\n",
    "weekend.transaction(\"dinner\",110, nora)\n",
    "weekend.transaction(\"lunch\",60, eva)\n",
    "weekend.transaction(\"dinner\",125, frankie)\n",
    "weekend.transaction(\"lunch\",70, harry)"
   ]
  },
  {
   "cell_type": "code",
   "execution_count": null,
   "metadata": {},
   "outputs": [],
   "source": [
    "weekend.reconcile()"
   ]
  },
  {
   "cell_type": "markdown",
   "metadata": {},
   "source": [
    "## Extra tests\n",
    "- testing transactions should not be created for an event if the payee is not signed up for the event.\n",
    "- The code for inputting transactions should be robust against invalid data."
   ]
  },
  {
   "cell_type": "code",
   "execution_count": null,
   "metadata": {},
   "outputs": [],
   "source": [
    "john = individual(\"John\")\n",
    "paul = individual(\"Paul\")\n",
    "george = individual(\"George\")\n",
    "ringo = individual(\"Ringo\") # the real best drummer in the Beatles\n",
    "brian = individual(\"Brian\") # testing a person not in the event"
   ]
  },
  {
   "cell_type": "code",
   "execution_count": null,
   "metadata": {},
   "outputs": [],
   "source": [
    "abbeyroad = event([john, paul, george, ringo])"
   ]
  },
  {
   "cell_type": "code",
   "execution_count": null,
   "metadata": {},
   "outputs": [],
   "source": [
    "abbeyroad.transaction(\"lunch\",22, john)\n",
    "abbeyroad.transaction(\"dinner\",60, george)\n",
    "abbeyroad.transaction(\"drinks\",21, ringo)\n",
    "abbeyroad.transaction(\"apples\",27, paul)"
   ]
  },
  {
   "cell_type": "code",
   "execution_count": null,
   "metadata": {},
   "outputs": [],
   "source": [
    "abbeyroad.transaction(\"taxi\", 199, brian) # testing a person not in the event"
   ]
  },
  {
   "cell_type": "code",
   "execution_count": null,
   "metadata": {},
   "outputs": [],
   "source": [
    "abbeyroad.transaction(\"apples\",27, \"testing string\") # tesing when there is not a individual used"
   ]
  },
  {
   "cell_type": "code",
   "execution_count": null,
   "metadata": {},
   "outputs": [],
   "source": [
    "abbeyroad.transaction(\"apples\",27, 10) # tesing when there is not a individual used"
   ]
  },
  {
   "cell_type": "code",
   "execution_count": null,
   "metadata": {},
   "outputs": [],
   "source": [
    "abbeyroad.transaction(\"apples\",-1, paul)"
   ]
  },
  {
   "cell_type": "code",
   "execution_count": null,
   "metadata": {},
   "outputs": [],
   "source": [
    "abbeyroad.transaction(\"apples\",\"x\", paul)"
   ]
  },
  {
   "cell_type": "code",
   "execution_count": null,
   "metadata": {},
   "outputs": [],
   "source": [
    "abbeyroad.transaction(\"apples\",paul, paul)"
   ]
  },
  {
   "cell_type": "code",
   "execution_count": null,
   "metadata": {},
   "outputs": [],
   "source": [
    "abbeyroad.transaction(17,35, paul)"
   ]
  },
  {
   "cell_type": "code",
   "execution_count": null,
   "metadata": {},
   "outputs": [],
   "source": [
    "abbeyroad.reconcile()"
   ]
  },
  {
   "cell_type": "code",
   "execution_count": null,
   "metadata": {},
   "outputs": [],
   "source": []
  },
  {
   "cell_type": "code",
   "execution_count": null,
   "metadata": {},
   "outputs": [],
   "source": []
  }
 ],
 "metadata": {
  "kernelspec": {
   "display_name": "Python 3",
   "language": "python",
   "name": "python3"
  },
  "language_info": {
   "codemirror_mode": {
    "name": "ipython",
    "version": 3
   },
   "file_extension": ".py",
   "mimetype": "text/x-python",
   "name": "python",
   "nbconvert_exporter": "python",
   "pygments_lexer": "ipython3",
   "version": "3.8.3"
  }
 },
 "nbformat": 4,
 "nbformat_minor": 4
}
